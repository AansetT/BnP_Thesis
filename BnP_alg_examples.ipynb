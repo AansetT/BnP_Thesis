{
 "cells": [
  {
   "cell_type": "code",
   "execution_count": 9,
   "metadata": {},
   "outputs": [],
   "source": [
    "import pandas as pd\n",
    "import numpy as np\n",
    "\n",
    "# Imports of custom moduls\n",
    "import BnP\n",
    "import CG\n",
    "import instance\n",
    "# from solution2 import importData2, importData3, importData2b, importData3b\n",
    "import Multitours as MT"
   ]
  },
  {
   "cell_type": "markdown",
   "metadata": {},
   "source": [
    "# Data"
   ]
  },
  {
   "cell_type": "code",
   "execution_count": 10,
   "metadata": {},
   "outputs": [],
   "source": [
    "ncustomers = 10\n",
    "nvehicles = 4\n",
    "Customers, Time, Vehicles, Network, delta = instance.read_data(\"Example3\", ncustomers, nvehicles)"
   ]
  },
  {
   "cell_type": "markdown",
   "metadata": {},
   "source": [
    "### Parameters"
   ]
  },
  {
   "cell_type": "code",
   "execution_count": 11,
   "metadata": {},
   "outputs": [],
   "source": [
    "parameters = instance.instance_parameters(ncustomers, nvehicles, Customers, Time, Vehicles, delta)"
   ]
  },
  {
   "cell_type": "markdown",
   "metadata": {},
   "source": [
    "## Initial set of Multitours and Cycle time"
   ]
  },
  {
   "cell_type": "markdown",
   "metadata": {},
   "source": [
    "### Random and Basic tours"
   ]
  },
  {
   "cell_type": "code",
   "execution_count": 12,
   "metadata": {},
   "outputs": [],
   "source": [
    "MultiTours,Cost,T,X = instance.Initial_Tours(Random = False, Basic1 = True, n_radom_multitours=20, Network = Network, Time = Time, Customers = Customers, instance_parameters = parameters)"
   ]
  },
  {
   "cell_type": "markdown",
   "metadata": {},
   "source": [
    "### Big M (Artificial Variable)"
   ]
  },
  {
   "cell_type": "code",
   "execution_count": 13,
   "metadata": {},
   "outputs": [],
   "source": [
    "# MultiTours,Cost,T,X = instance.Artificial_Variable(ncustomers, BigM=100000)"
   ]
  },
  {
   "cell_type": "markdown",
   "metadata": {},
   "source": [
    "### Stored Solutions"
   ]
  },
  {
   "cell_type": "code",
   "execution_count": 14,
   "metadata": {},
   "outputs": [],
   "source": [
    "# MultiTours,Cost,T,X = importData2(ncustomers)\n",
    "# MultiTours,Cost,T,X = importData3(ncustomers)\n",
    "# MultiTours,Cost,T,X = importData2b(ncustomers)\n",
    "# MultiTours,Cost,T,X = importData3b(ncustomers)"
   ]
  },
  {
   "cell_type": "markdown",
   "metadata": {},
   "source": [
    "# Branch and Price"
   ]
  },
  {
   "cell_type": "markdown",
   "metadata": {},
   "source": [
    "### Original approach"
   ]
  },
  {
   "cell_type": "code",
   "execution_count": null,
   "metadata": {},
   "outputs": [],
   "source": [
    "Min_TC, solutionMP, tree = BnP.BnP(MultiTours,Cost,T,X, parameters, strategy=\"MultiTours\")\n",
    "# Min_TC, solutionMP, tree = BnP.BnP(MultiTours,Cost,T,X, parameters, strategy=\"Trips\")"
   ]
  },
  {
   "cell_type": "markdown",
   "metadata": {},
   "source": [
    "### Initialize with column generation savings heuristic and run BnP"
   ]
  },
  {
   "cell_type": "code",
   "execution_count": 15,
   "metadata": {},
   "outputs": [
    {
     "name": "stdout",
     "output_type": "stream",
     "text": [
      "Heuristic Solution:\n",
      "Iteration 0 :\n",
      "Min reduced cost [-163065.576931588, -157298.35196434706, -240608.82908411045]\n",
      "MIPgap 1\n",
      "Generated MultiTour [[0, 8, 3, 6, 0], [0, 10, 9, 5, 0], [0, 1, 0, 4, 2, 7, 0]]\n",
      "Min total cost RMP 652270.1626853801\n",
      "Iteration 1 :\n",
      "Min reduced cost [-787996.1586605657]\n",
      "MIPgap 1\n",
      "Generated MultiTour [[0, 1, 3, 6, 5, 0, 4, 2, 7, 9, 0]]\n",
      "Min total cost RMP 460051.8053478191\n",
      "Iteration 2 :\n",
      "Min reduced cost [-116440.55265182498, -34643.3455222632]\n",
      "MIPgap 1\n",
      "Generated MultiTour [[0, 1, 3, 8, 5, 10, 0], [0, 4, 2, 6, 7, 0]]\n",
      "Min total cost RMP 241419.70717274927\n",
      "Iteration 3 :\n",
      "Min reduced cost [-7808.005106671088, -1014.77784336904, -2610.3391017470276]\n",
      "MIPgap 1\n",
      "Generated MultiTour [[0, 8, 3, 0], [0, 5, 0, 1, 9, 0], [0, 10, 0, 4, 2, 7, 0]]\n",
      "Min total cost RMP 178294.84159971104\n",
      "Iteration 4 :\n",
      "Min reduced cost [-1.8189894035458565e-12, -933.2619529458552, -843.5711383369071]\n",
      "MIPgap 1\n",
      "Generated MultiTour [[0, 4, 2, 6, 7, 0], [0, 10, 9, 0], [0, 1, 3, 8, 5, 0]]\n",
      "Min total cost RMP 170486.83649303994\n",
      "Iteration 5 :\n",
      "Min reduced cost [-5348.321737094466, -899.6491953615623, -6161.086677341555, -786.3809269020203]\n",
      "MIPgap 1\n",
      "Generated MultiTour [[0, 10, 0], [0, 5, 6, 0], [0, 4, 2, 7, 8, 0], [0, 1, 3, 9, 0]]\n",
      "Min total cost RMP 170486.83649303994\n",
      "Iteration 6 :\n",
      "Min reduced cost [-1073.166634753412, -970.3711357560387, -8581.722182797079]\n",
      "MIPgap 1\n",
      "Generated MultiTour [[0, 5, 6, 0], [0, 8, 3, 1, 0], [0, 4, 2, 7, 9, 0]]\n",
      "Min total cost RMP 163278.96719429005\n",
      "Iteration 7 :\n",
      "Min reduced cost [-1073.166634753412, -970.3711357560387, -8581.722182797079]\n",
      "MIPgap 1\n",
      "Generated MultiTour [[0, 5, 6, 0], [0, 8, 3, 1, 0], [0, 4, 2, 7, 9, 0]]\n",
      "Min total cost RMP 153726.87387573693\n",
      "No improvement in the last 1 iterations\n",
      "\n",
      "Relaxed Master Problem:\n",
      "Solution of the Relaxed Master Problem [(19, 1.0), (20, 1.0), (23, 1.0), (24, 1.0)]\n",
      "Min total cost RMP 153726.87387573693\n",
      "Branch and Price Solution:\n",
      "Iteration 0 :\n",
      "Min reduced cost -31733.87667200413\n",
      "MIPgap 0.0\n",
      "Generated MultiTour [0, 4, 9, 2, 1, 0]\n",
      "Min total cost RMP 153726.87387573693\n",
      "Iteration 1 :\n",
      "Min reduced cost -35542.51452356391\n",
      "MIPgap 2.620305814317195e-14\n",
      "Generated MultiTour [0, 7, 2, 3, 1, 0]\n",
      "Min total cost RMP 146738.29442293695\n",
      "Iteration 2 :\n",
      "Min reduced cost -30851.21835138554\n",
      "MIPgap 2.8725336786180476e-13\n",
      "Generated MultiTour [0, 7, 9, 4, 5, 0]\n",
      "Min total cost RMP 146738.29442293695\n",
      "Iteration 3 :\n",
      "Min reduced cost -13981.939553779783\n",
      "MIPgap 6.32785202998196e-13\n",
      "Generated MultiTour [0, 1, 3, 4, 0]\n",
      "Min total cost RMP 134951.26208712914\n",
      "Iteration 4 :\n",
      "Min reduced cost -11326.281956236096\n",
      "MIPgap 5.0716739825395864e-08\n",
      "Generated MultiTour [0, 7, 2, 4, 0]\n",
      "Min total cost RMP 134951.26208712914\n",
      "Iteration 5 :\n",
      "Min reduced cost -9599.509253780394\n",
      "MIPgap 2.9427523272107405e-10\n",
      "Generated MultiTour [0, 8, 9, 7, 0]\n",
      "Min total cost RMP 134951.26208712914\n",
      "Iteration 6 :\n",
      "Min reduced cost -15396.12618103045\n",
      "MIPgap 1.1469605355261703e-12\n",
      "Generated MultiTour [0, 8, 5, 10, 0]\n",
      "Min total cost RMP 133229.28637353508\n",
      "Iteration 7 :\n",
      "Min reduced cost -6688.460105524677\n",
      "MIPgap 0.0\n",
      "Generated MultiTour [0, 5, 10, 0]\n",
      "Min total cost RMP 131689.67375543204\n",
      "Iteration 8 :\n",
      "Min reduced cost -4964.965445207432\n",
      "MIPgap 0.0\n",
      "Generated MultiTour [0, 1, 2, 6, 0]\n",
      "Min total cost RMP 130017.55872905087\n",
      "Iteration 9 :\n",
      "Min reduced cost -3638.544620318906\n",
      "MIPgap 0.0\n",
      "Generated MultiTour [0, 9, 2, 4, 0]\n",
      "Min total cost RMP 128566.87795365223\n",
      "Iteration 10 :\n",
      "Min reduced cost -3470.6338609567138\n",
      "MIPgap 1.0534584884500934e-12\n",
      "Generated MultiTour [0, 6, 0]\n",
      "Min total cost RMP 127657.2417985725\n",
      "Iteration 11 :\n",
      "Min reduced cost -4268.967194290042\n",
      "MIPgap 4.0308671803709065e-13\n",
      "Generated MultiTour [0, 8, 5, 0]\n",
      "Min total cost RMP 126585.83333333334\n",
      "Iteration 12 :\n",
      "Min reduced cost -1559.374999999989\n",
      "MIPgap 0.0\n",
      "Generated MultiTour [0, 9, 2, 3, 0]\n",
      "Min total cost RMP 126486.04166666666\n",
      "Iteration 13 :\n",
      "Min reduced cost -25.000000032872777\n",
      "MIPgap 7.275957604616189e-11\n",
      "Generated MultiTour [0, 1, 2, 10, 0]\n",
      "Min total cost RMP 126174.16666666667\n",
      "Iteration 14 :\n",
      "Min reduced cost -16.666666694967716\n",
      "MIPgap 1.0913936402742587e-11\n",
      "Generated MultiTour [0, 1, 2, 9, 0]\n",
      "Min total cost RMP 126171.66666666338\n",
      "Iteration 15 :\n",
      "Min reduced cost -81.66666686919598\n",
      "MIPgap 0.0\n",
      "Generated MultiTour [0, 7, 2, 3, 0]\n",
      "Min total cost RMP 126163.3333333159\n",
      "Iteration 16 :\n",
      "Min reduced cost -16.66666666666788\n",
      "MIPgap 3.096174623351319e-08\n",
      "Generated MultiTour [0, 8, 0]\n",
      "Min total cost RMP 126163.3333333159\n",
      "Iteration 17 :\n",
      "Min reduced cost -11.111164827483663\n",
      "MIPgap 4.837162294074254e-06\n",
      "Generated MultiTour [0, 7, 2, 10, 0]\n",
      "Min total cost RMP 126163.3333333159\n",
      "Iteration 18 :\n",
      "Min reduced cost -25.000000033736796\n",
      "MIPgap 1.0259100222154263e-11\n",
      "Generated MultiTour [0, 5, 6, 0]\n",
      "Min total cost RMP 126163.3333333159\n",
      "Iteration 19 :\n",
      "Min reduced cost -8.333333543867411\n",
      "MIPgap 2.0758306548825602e-10\n",
      "Generated MultiTour [0, 10, 9, 4, 0]\n",
      "Min total cost RMP 126162.91666663454\n",
      "Iteration 20 :\n",
      "Min reduced cost -8.333333413396758\n",
      "MIPgap 3.854802306958938e-10\n",
      "Generated MultiTour [0, 10, 9, 7, 0]\n",
      "Min total cost RMP 126160.55555544798\n",
      "Iteration 21 :\n",
      "Min reduced cost -6.249999955029125\n",
      "MIPgap 4.898174701112315e-10\n",
      "Generated MultiTour [0, 4, 3, 8, 0]\n",
      "Min total cost RMP 126158.12499989662\n",
      "Iteration 22 :\n",
      "Min reduced cost -2.499999971307261\n",
      "MIPgap 3.943569072148136e-10\n",
      "Generated MultiTour [0, 3, 2, 1, 0]\n",
      "Min total cost RMP 126154.99999991912\n",
      "\n",
      "Relaxed Master Problem:\n",
      "Solution of the Relaxed Master Problem [(28, 0.5), (39, 0.5), (41, 0.5), (42, 0.5), (43, 1.0), (45, 0.5), (46, 0.5)]\n",
      "Min total cost RMP 126154.99999991912\n",
      "\n",
      "Integer Master Problem:\n",
      "Solution of the Master Problem [(26, 1.0), (35, 1.0), (36, 1.0), (44, 1.0)]\n",
      "Min total cost MP 127414.99999985969\n",
      "[0, 7, 2, 3, 1, 0] 5.0 51240.0\n",
      "[0, 6, 0] 2.0 11200.0\n",
      "[0, 8, 5, 0] 3.0 23700.0\n",
      "[0, 10, 9, 4, 0] 3.9999999999858726 41274.9999998597\n",
      "\n",
      "Branch and Price Results\n",
      "node Depth TC           Leaf  UB           LB           Gap       \n",
      "0    0     126155.0     False 127415.0     126155.0     0.999     \n",
      "1    1     126159.167   False 127415.0     126159.167   0.995     \n",
      "2    2     126159.167   False 127415.0     126159.167   0.995     \n",
      "3    3     126159.167   False 127415.0     126159.167   0.995     \n",
      "4    4     127393.333   True  127393.333   126159.167   0.978     \n",
      "5    4     126578.333   False 127393.333   126578.333   0.644     \n",
      "6    5     127400.0     True  127393.333   126578.333   0.644     \n",
      "7    5     127408.333   True  127393.333   126578.333   0.644     \n",
      "8    3     127408.333   True  127393.333   126578.333   0.644     \n",
      "9    2     126164.167   False 127393.333   126578.333   0.644     \n",
      "10   3     126168.333   False 127393.333   126578.333   0.644     \n",
      "11   4     126168.333   False 127393.333   126578.333   0.644     \n",
      "12   5     126171.667   False 127393.333   126578.333   0.644     \n",
      "13   6     127403.333   True  127393.333   126578.333   0.644     \n",
      "14   6     127408.333   True  127393.333   126578.333   0.644     \n",
      "15   5     129900.0     True  127393.333   126578.333   0.644     \n",
      "16   4     127408.333   True  127393.333   126578.333   0.644     \n",
      "17   3     127400.0     True  127393.333   126578.333   0.644     \n",
      "18   1     126160.0     False 127393.333   126578.333   0.644     \n",
      "19   2     126167.5     False 127393.333   126578.333   0.644     \n",
      "20   3     126167.5     False 127393.333   126578.333   0.644     \n",
      "21   4     126167.5     False 127393.333   126578.333   0.644     \n",
      "22   5     127400.0     True  127393.333   126578.333   0.644     \n",
      "23   5     129895.833   True  127393.333   126578.333   0.644     \n",
      "24   4     127400.0     True  127393.333   126578.333   0.644     \n",
      "25   3     127400.0     True  127393.333   126578.333   0.644     \n",
      "26   2     127395.0     True  127393.333   126578.333   0.644     \n",
      "\n",
      "Optimal solution found\n",
      "Min total cost: 127393.33333329846\n",
      "Solution: [(32, 1.0), (39, 1.0), (46, 1.0), (53, 1.0)]\n",
      "[0, 5, 10, 0] 3.0 23733.333333333332\n",
      "[0, 1, 2, 9, 0] 4.9999999999953175 38759.999999965126\n",
      "[0, 4, 3, 8, 0] 4.0 41200.0\n",
      "[0, 6, 7, 0] 3.0 23700.0\n"
     ]
    }
   ],
   "source": [
    "print('Heuristic Solution:')\n",
    "X, Min_TC_RMP, solutionRMP = CG.ColumnGeneration_V2(MultiTours,Cost,T,X, parameters, Network=Network, Time=Time, Customers=Customers, heuristic=True)\n",
    "CG.print_solution_RMP(Min_TC_RMP, solutionRMP)\n",
    "print('Branch and Price Solution:')\n",
    "# Min_TC, solutionMP, tree = BnP.BnP(MultiTours,Cost,T,X, parameters, strategy=\"MultiTours\")\n",
    "Min_TC, solutionMP, tree = BnP.BnP(MultiTours,Cost,T,X, parameters, strategy=\"Trips\")"
   ]
  }
 ],
 "metadata": {
  "kernelspec": {
   "display_name": "new",
   "language": "python",
   "name": "python3"
  },
  "language_info": {
   "codemirror_mode": {
    "name": "ipython",
    "version": 3
   },
   "file_extension": ".py",
   "mimetype": "text/x-python",
   "name": "python",
   "nbconvert_exporter": "python",
   "pygments_lexer": "ipython3",
   "version": "3.10.9"
  }
 },
 "nbformat": 4,
 "nbformat_minor": 2
}
