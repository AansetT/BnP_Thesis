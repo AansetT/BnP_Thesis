{
 "cells": [
  {
   "cell_type": "code",
   "execution_count": 1,
   "metadata": {},
   "outputs": [],
   "source": [
    "import pandas as pd\n",
    "import numpy as np\n",
    "\n",
    "# Imports of custom moduls\n",
    "import instance\n",
    "import utils as ut\n",
    "import CG\n",
    "import Multitours as MT\n",
    "import networkx as nx"
   ]
  },
  {
   "cell_type": "markdown",
   "metadata": {},
   "source": [
    "# Data"
   ]
  },
  {
   "cell_type": "code",
   "execution_count": 2,
   "metadata": {},
   "outputs": [],
   "source": [
    "ncustomers = 10\n",
    "nvehicles = 4\n",
    "Customers, Time, Vehicles, Network, delta = instance.read_data(\"Example3\", ncustomers, nvehicles)"
   ]
  },
  {
   "cell_type": "markdown",
   "metadata": {},
   "source": [
    "### Parameters"
   ]
  },
  {
   "cell_type": "code",
   "execution_count": 3,
   "metadata": {},
   "outputs": [],
   "source": [
    "parameters = instance.instance_parameters(ncustomers, nvehicles, Customers, Time, Vehicles, delta)"
   ]
  },
  {
   "cell_type": "markdown",
   "metadata": {},
   "source": [
    "## Initial set of Multitours and Cycle time"
   ]
  },
  {
   "cell_type": "markdown",
   "metadata": {},
   "source": [
    "### Random and Basic tours"
   ]
  },
  {
   "cell_type": "code",
   "execution_count": 4,
   "metadata": {},
   "outputs": [],
   "source": [
    "# MultiTours,Cost,T,X = instance.Initial_Tours(Random = True, Basic1 = True, n_radom_multitours=20, Network = Network, Time = Time, Customers = Customers, instance_parameters = parameters)"
   ]
  },
  {
   "cell_type": "markdown",
   "metadata": {},
   "source": [
    "### Big M (Artificial Variable)"
   ]
  },
  {
   "cell_type": "code",
   "execution_count": 5,
   "metadata": {},
   "outputs": [],
   "source": [
    "MultiTours,Cost,T,X = instance.Artificial_Variable(ncustomers, BigM=1000000)"
   ]
  },
  {
   "cell_type": "markdown",
   "metadata": {},
   "source": [
    "# Column Generation"
   ]
  },
  {
   "cell_type": "code",
   "execution_count": 6,
   "metadata": {},
   "outputs": [
    {
     "name": "stdout",
     "output_type": "stream",
     "text": [
      "Set parameter Username\n",
      "Academic license - for non-commercial use only - expires 2024-11-29\n",
      "Iteration 0 :\n",
      "Min reduced cost -984751.798359091\n",
      "Generated MultiTour [0, 1, 0]\n",
      "Min total cost RMP 1000000.0\n",
      "Iteration 1 :\n",
      "Min reduced cost -968635.1316924244\n",
      "Generated MultiTour [0, 2, 0]\n",
      "Min total cost RMP 1000000.0\n",
      "Iteration 2 :\n",
      "Min reduced cost -957510.1316924244\n",
      "Generated MultiTour [0, 3, 0]\n",
      "Min total cost RMP 1000000.0\n",
      "Iteration 3 :\n",
      "Min reduced cost -949332.9978633809\n",
      "Generated MultiTour [0, 4, 0]\n",
      "Min total cost RMP 1000000.0\n",
      "Iteration 4 :\n",
      "Min reduced cost -991822.8661709565\n",
      "Generated MultiTour [0, 5, 0]\n",
      "Min total cost RMP 1000000.0\n",
      "Iteration 5 :\n",
      "Min reduced cost -984716.4430200318\n",
      "Generated MultiTour [0, 6, 0]\n",
      "Min total cost RMP 1000000.0\n",
      "Iteration 6 :\n",
      "Min reduced cost -991822.8661709565\n",
      "Generated MultiTour [0, 7, 0]\n",
      "Min total cost RMP 1000000.0\n",
      "Iteration 7 :\n",
      "Min reduced cost -984716.4430200318\n",
      "Generated MultiTour [0, 8, 0]\n",
      "Min total cost RMP 1000000.0\n",
      "Iteration 8 :\n",
      "Min reduced cost -981578.455627203\n",
      "Generated MultiTour [0, 9, 0]\n",
      "Min total cost RMP 1000000.0\n",
      "Iteration 9 :\n",
      "Min reduced cost -981535.1543570139\n",
      "Generated MultiTour [0, 10, 0]\n",
      "Min total cost RMP 1000000.0\n",
      "Iteration 10 :\n",
      "Min reduced cost -420104.6722458558\n",
      "Generated MultiTour [0, 4, 2, 3, 9, 10, 5, 0]\n",
      "Min total cost RMP 711491.5912568086\n",
      "Iteration 11 :\n",
      "Min reduced cost -574165.3748715282\n",
      "Generated MultiTour [0, 1, 8, 7, 6, 0]\n",
      "Min total cost RMP 396413.08707241673\n",
      "Iteration 12 :\n",
      "Min reduced cost -21352.191129413965\n",
      "Generated MultiTour [0, 9, 2, 3, 0]\n",
      "Min total cost RMP 200341.9172221587\n",
      "Iteration 13 :\n",
      "Min reduced cost -28969.68898811647\n",
      "Generated MultiTour [0, 4, 5, 6, 0]\n",
      "Min total cost RMP 186107.1231358827\n",
      "Iteration 14 :\n",
      "Min reduced cost -27280.014353393715\n",
      "Generated MultiTour [0, 10, 5, 4, 0]\n",
      "Min total cost RMP 185810.40787634288\n",
      "Iteration 15 :\n",
      "Min reduced cost -5086.358296771463\n",
      "Generated MultiTour [0, 6, 7, 0]\n",
      "Min total cost RMP 167623.73164074708\n",
      "Iteration 16 :\n",
      "Min reduced cost -10314.24743925051\n",
      "Generated MultiTour [0, 1, 8, 7, 0]\n",
      "Min total cost RMP 165080.55249236134\n",
      "Iteration 17 :\n",
      "Min reduced cost -1541.3170049528526\n",
      "Generated MultiTour [0, 8, 7, 0]\n",
      "Min total cost RMP 162395.84249826803\n",
      "Iteration 18 :\n",
      "Min reduced cost -4326.438594668703\n",
      "Generated MultiTour [0, 1, 8, 0]\n",
      "Min total cost RMP 162395.84249826803\n",
      "Iteration 19 :\n",
      "Min reduced cost -57.29812546635003\n",
      "Generated MultiTour [0, 4, 5, 0]\n",
      "Min total cost RMP 159610.72090855218\n",
      "Iteration 20 :\n",
      "Min reduced cost -57.29812546635367\n",
      "Generated MultiTour [0, 1, 8, 0]\n",
      "Min total cost RMP 159610.72090855218\n",
      "No improvement in the last 1 iterations\n",
      "\n",
      "Relaxed Master Problem:\n",
      "Solution of the Relaxed Master Problem [(13, 1.0), (15, 1.0), (16, 1.0), (19, 1.0)]\n",
      "Min total cost RMP 159610.72090855218\n",
      "\n",
      "Integer Master Problem:\n",
      "Solution of the Master Problem [(13, 1.0), (15, 1.0), (16, 1.0), (19, 1.0)]\n",
      "Min total cost MP 159610.72090855218\n",
      "[0, 9, 2, 3, 0] 6.324555320336759 48608.09017383496\n",
      "[0, 10, 5, 4, 0] 4.47213595499958 45922.605667970776\n",
      "[0, 6, 7, 0] 3.4641016151377544 27153.967194290046\n",
      "[0, 1, 8, 0] 4.898979485566356 37926.057872456404\n"
     ]
    }
   ],
   "source": [
    "Min_TC, solutionMP, Min_TC_RMP, solutionRMP, X = CG.ColumnGeneration_heuristic(MultiTours,Cost,T,X, parameters, Network, Time, Customers)"
   ]
  },
  {
   "cell_type": "code",
   "execution_count": 7,
   "metadata": {},
   "outputs": [
    {
     "data": {
      "text/plain": [
       "[(13, 1.0), (15, 1.0), (16, 1.0), (19, 1.0)]"
      ]
     },
     "execution_count": 7,
     "metadata": {},
     "output_type": "execute_result"
    }
   ],
   "source": [
    "# For example 2, with 4 vehicles the LP of the RMP is not integer M=1000000\n",
    "# [(3, 0.5), (8, 1.0), (15, 0.5), (17, 0.5), (20, 1.0), (21, 0.5)]\n",
    "solutionRMP"
   ]
  },
  {
   "cell_type": "code",
   "execution_count": 8,
   "metadata": {},
   "outputs": [],
   "source": [
    "# plot results\n",
    "# ut.plot_results(results, initialization=\" (Basic tours)\")"
   ]
  }
 ],
 "metadata": {
  "kernelspec": {
   "display_name": "new",
   "language": "python",
   "name": "python3"
  },
  "language_info": {
   "codemirror_mode": {
    "name": "ipython",
    "version": 3
   },
   "file_extension": ".py",
   "mimetype": "text/x-python",
   "name": "python",
   "nbconvert_exporter": "python",
   "pygments_lexer": "ipython3",
   "version": "3.10.9"
  }
 },
 "nbformat": 4,
 "nbformat_minor": 2
}
