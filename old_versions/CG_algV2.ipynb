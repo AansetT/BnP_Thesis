{
 "cells": [
  {
   "cell_type": "code",
   "execution_count": 1,
   "metadata": {},
   "outputs": [],
   "source": [
    "import pandas as pd\n",
    "import numpy as np\n",
    "\n",
    "# Imports of custom moduls\n",
    "import Multitours as MT\n",
    "import utils as ut\n",
    "import CG"
   ]
  },
  {
   "cell_type": "markdown",
   "metadata": {},
   "source": [
    "# Data"
   ]
  },
  {
   "cell_type": "code",
   "execution_count": 2,
   "metadata": {},
   "outputs": [],
   "source": [
    "# Read excel file for rows 1 to 9 for demanda data\n",
    "ncustomers = 8\n",
    "nvehicles = 4\n",
    "vehicleCapacity = [60000 for i in range(nvehicles)]\n",
    "Customers = pd.read_excel('D:/DIEGO/Gent/2nd Year/Thesis/Example2.xlsx', sheet_name='Sheet1', nrows=ncustomers)\n",
    "Time = pd.read_excel('D:/DIEGO/Gent/2nd Year/Thesis/Example2.xlsx', sheet_name='Sheet1', skiprows=ncustomers+2, usecols=\"A:C\")\n",
    "Network = Time[[\"Origin\", \"Destination\"]]\n",
    "Customers[\"Tmax\"] = Customers[\"Capacity\"] / Customers[\"Demand\"]"
   ]
  },
  {
   "cell_type": "markdown",
   "metadata": {},
   "source": [
    "### Parameters"
   ]
  },
  {
   "cell_type": "code",
   "execution_count": 3,
   "metadata": {},
   "outputs": [],
   "source": [
    "# Vehicle cost parameter\n",
    "psi = [1000 for i in range(nvehicles)]\n",
    "\n",
    "# Transportation cost\n",
    "delta = 100\n",
    "\n",
    "# Delivery cost\n",
    "# column Phi of df Costumers with indeces 1 to ncustomers\n",
    "phi = Customers[\"Phi\"].copy()\n",
    "phi.index = phi.index + 1\n",
    "\n",
    "# Holding Cost\n",
    "h = Customers[\"Holding\"].copy()\n",
    "h.index = h.index + 1\n",
    "\n",
    "# Demand\n",
    "d = Customers[\"Demand\"].copy()\n",
    "d.index = d.index + 1\n",
    "\n",
    "# Capacity\n",
    "k = Customers[\"Capacity\"].copy()\n",
    "k.index = k.index + 1\n",
    "\n",
    "# Travel time parameter\n",
    "shape = (ncustomers + 1, ncustomers + 1)\n",
    "t = np.full(shape, 100)\n",
    "\n",
    "for index, row in Time.iterrows():\n",
    "    i = row['Origin']\n",
    "    j = row['Destination']\n",
    "    t[i, j] = row['Time']\n",
    "\n",
    "# Create a dictionary with all the parameters\n",
    "parameters = {\n",
    "    \"ncustomers\": ncustomers,\n",
    "    \"nvehicles\": nvehicles,\n",
    "    \"vehicleCapacity\": vehicleCapacity,\n",
    "    \"psi\": psi,\n",
    "    \"delta\": delta,\n",
    "    \"phi\": phi,\n",
    "    \"h\": h,\n",
    "    \"d\": d,\n",
    "    \"k\": k,\n",
    "    \"t\": t\n",
    "}\n"
   ]
  },
  {
   "cell_type": "markdown",
   "metadata": {},
   "source": [
    "## Initial set of Multitours and Cycle time"
   ]
  },
  {
   "cell_type": "markdown",
   "metadata": {},
   "source": [
    "### Random and Basic tours"
   ]
  },
  {
   "cell_type": "code",
   "execution_count": 4,
   "metadata": {},
   "outputs": [],
   "source": [
    "# Random Multitours\n",
    "# n_MultiToursR = 10\n",
    "# MultiToursR = MT.generate_random_multi_tour(n_MultiToursR, Network)\n",
    "# SingleToursR = [MT.identify_tours(multitour) for multitour in MultiToursR]\n",
    "\n",
    "# # Basic MultiTours\n",
    "# MultiToursB = MT.generate_basic_tours2(Network, Time, Customers, ncustomers, vehicleCapacity, delta, phi, h, d)\n",
    "# SingleToursB = [MT.identify_tours(multitour) for multitour in MultiToursB]\n",
    "# n_MultiToursB = len(MultiToursB)\n",
    "\n",
    "# # Cycle time and bounds. Update the MultiTours list with only feasible tours (Possibility to mix basic and random tours)\n",
    "# # Tmin, Tmax, T_EOQ, T, MultiTours = MT.get_cycle_time(Time, Customers, MultiToursR + MultiToursB, SingleToursR + SingleToursB, n_MultiToursR + n_MultiToursB, vehicleCapacity, delta, phi, h, d)\n",
    "# Tmin, Tmax, T_EOQ, T, MultiTours = MT.get_cycle_time(Time, Customers, MultiToursB,  SingleToursB, n_MultiToursB, vehicleCapacity, delta, phi, h, d)\n",
    "# n_MultiTours = len(MultiTours) \n",
    "\n",
    "# # Binary representation of the MultiTours\n",
    "# X = MT.Multitours_Binary(MultiTours, ncustomers)\n",
    "\n",
    "# # Multitour cost\n",
    "# Cost = MT.Multitour_Cost(n_MultiTours, ncustomers, psi, T, delta, t, X, phi, h, d)"
   ]
  },
  {
   "cell_type": "markdown",
   "metadata": {},
   "source": [
    "### Big M (Artificial Variable)"
   ]
  },
  {
   "cell_type": "code",
   "execution_count": 5,
   "metadata": {},
   "outputs": [],
   "source": [
    "# # Artificial variable / multitour\n",
    "artificial = [0]\n",
    "for i in range(1, ncustomers + 1):\n",
    "    artificial.append(i)\n",
    "artificial.append(0)\n",
    "artificial\n",
    "\n",
    "# Multitours\n",
    "n_MultiTours = 1\n",
    "MultiTours = [artificial]\n",
    "# T = [MT.calculate_travel_time(artificial, Time)]\n",
    "T = [100]\n",
    "Cost = [1000000] # Big M\n",
    "X = MT.Multitours_Binary(MultiTours, ncustomers)"
   ]
  },
  {
   "cell_type": "markdown",
   "metadata": {},
   "source": [
    "# Column Generation"
   ]
  },
  {
   "cell_type": "code",
   "execution_count": 6,
   "metadata": {},
   "outputs": [
    {
     "name": "stdout",
     "output_type": "stream",
     "text": [
      "Set parameter Username\n",
      "Academic license - for non-commercial use only - expires 2024-11-29\n",
      "Iteration 0 :\n",
      "Min reduced cost -993700.0\n",
      "Generated MultiTour [0, 1, 0]\n",
      "Min total cost RMP 1000000.0\n",
      "Iteration 1 :\n",
      "Min reduced cost -977583.3333333334\n",
      "Generated MultiTour [0, 2, 0]\n",
      "Min total cost RMP 1000000.0\n",
      "Iteration 2 :\n",
      "Min reduced cost -966458.3333333334\n",
      "Generated MultiTour [0, 3, 0]\n",
      "Min total cost RMP 1000000.0\n",
      "Iteration 3 :\n",
      "Min reduced cost -960308.3333333334\n",
      "Generated MultiTour [0, 4, 0]\n",
      "Min total cost RMP 1000000.0\n",
      "Iteration 4 :\n",
      "Min reduced cost -993850.0\n",
      "Generated MultiTour [0, 5, 0]\n",
      "Min total cost RMP 1000000.0\n",
      "Iteration 5 :\n",
      "Min reduced cost -988800.0\n",
      "Generated MultiTour [0, 6, 0]\n",
      "Min total cost RMP 1000000.0\n",
      "Iteration 6 :\n",
      "Min reduced cost -993850.0\n",
      "Generated MultiTour [0, 7, 0]\n",
      "Min total cost RMP 1000000.0\n",
      "Iteration 7 :\n",
      "Min reduced cost -988800.0\n",
      "Generated MultiTour [0, 8, 0]\n",
      "Min total cost RMP 1000000.0\n",
      "Iteration 8 :\n",
      "Min reduced cost -748770.0\n",
      "Generated MultiTour [0, 4, 6, 7, 0, 5, 8, 3, 2, 1, 0]\n",
      "Min total cost RMP 603310.7142857143\n",
      "Iteration 9 :\n",
      "Min reduced cost -72076.19047619049\n",
      "Generated MultiTour [0, 7, 2, 3, 1, 4, 5, 0]\n",
      "Min total cost RMP 175442.14285714287\n",
      "Iteration 10 :\n",
      "Min reduced cost -20993.80952704592\n",
      "Generated MultiTour [0, 1, 3, 2, 7, 0]\n",
      "Min total cost RMP 117781.19047619047\n",
      "Iteration 11 :\n",
      "Min reduced cost -47509.52380952379\n",
      "Generated MultiTour [0, 5, 4, 2, 1, 0]\n",
      "Min total cost RMP 107284.28571428571\n",
      "Iteration 12 :\n",
      "Min reduced cost -49910.476190476154\n",
      "Generated MultiTour [0, 7, 2, 3, 4, 5, 0]\n",
      "Min total cost RMP 107284.28571428571\n",
      "Iteration 13 :\n",
      "Min reduced cost -35314.999999999985\n",
      "Generated MultiTour [0, 5, 4, 3, 1, 0]\n",
      "Min total cost RMP 104883.33333333333\n",
      "Iteration 14 :\n",
      "Min reduced cost -9991.666666666664\n",
      "Generated MultiTour [0, 4, 2, 7, 0]\n",
      "Min total cost RMP 97298.33333333333\n",
      "Iteration 15 :\n",
      "Min reduced cost -6263.75\n",
      "Generated MultiTour [0, 1, 2, 4, 0]\n",
      "Min total cost RMP 92302.5\n",
      "Iteration 16 :\n",
      "Min reduced cost -6226.25\n",
      "Generated MultiTour [0, 1, 3, 4, 0]\n",
      "Min total cost RMP 92302.5\n",
      "Iteration 17 :\n",
      "Min reduced cost -9980.0\n",
      "Generated MultiTour [0, 8, 3, 6, 0]\n",
      "Min total cost RMP 92302.5\n",
      "Iteration 18 :\n",
      "Min reduced cost -7507.5\n",
      "Generated MultiTour [0, 1, 8, 5, 0]\n",
      "Min total cost RMP 92302.5\n",
      "Iteration 19 :\n",
      "Min reduced cost -4487.0\n",
      "Generated MultiTour [0, 5, 6, 0]\n",
      "Min total cost RMP 90801.0\n",
      "Iteration 20 :\n",
      "Min reduced cost -2515.0\n",
      "Generated MultiTour [0, 1, 2, 7, 0]\n",
      "Min total cost RMP 88557.5\n",
      "Iteration 21 :\n",
      "Min reduced cost -8.333333339870478\n",
      "Generated MultiTour [0, 4, 5, 0]\n",
      "Min total cost RMP 87300.0\n",
      "Iteration 22 :\n",
      "Min reduced cost -3.358763933647424e-09\n",
      "Generated MultiTour [0, 8, 0]\n",
      "Min total cost RMP 87300.0\n",
      "Iteration 23 :\n",
      "Min reduced cost -3.358763933647424e-09\n",
      "Generated MultiTour [0, 8, 0]\n",
      "Min total cost RMP 87300.0\n",
      "No improvement in the last 2 iterations\n",
      "\n",
      "Relaxed Master Problem:\n",
      "Solution of the Relaxed Master Problem [(3, 0.5), (8, 1.0), (15, 0.5), (17, 0.5), (20, 1.0), (21, 0.5)]\n",
      "Min total cost RMP 87300.0\n",
      "\n",
      "Integer Master Problem:\n",
      "Solution of the Master Problem [(6, 1.0), (8, 1.0), (11, 1.0), (22, 1.0)]\n",
      "Min total cost MP 89806.66666666014\n",
      "[0, 6, 0] 2.0 11200.0\n",
      "[0, 8, 0] 2.0 11200.0\n",
      "[0, 1, 3, 2, 7, 0] 5.0 51240.0\n",
      "[0, 4, 5, 0] 2.9999999999986784 16166.66666666013\n"
     ]
    }
   ],
   "source": [
    "Min_TC, solutionMP, Min_TC_RMP, solutionRMP, X = CG.ColumnGeneration_heuristic(MultiTours,Cost,T,X, parameters)"
   ]
  },
  {
   "cell_type": "code",
   "execution_count": 7,
   "metadata": {},
   "outputs": [
    {
     "data": {
      "text/plain": [
       "[(3, 0.5), (8, 1.0), (15, 0.5), (17, 0.5), (20, 1.0), (21, 0.5)]"
      ]
     },
     "execution_count": 7,
     "metadata": {},
     "output_type": "execute_result"
    }
   ],
   "source": [
    "# For example 2, with 4 vehicles the LP of the RMP is not integer M=1000000\n",
    "# [(3, 0.5), (8, 1.0), (15, 0.5), (17, 0.5), (20, 1.0), (21, 0.5)]\n",
    "solutionRMP"
   ]
  },
  {
   "cell_type": "code",
   "execution_count": 12,
   "metadata": {},
   "outputs": [],
   "source": [
    "# plot results\n",
    "# ut.plot_results(results, initialization=\" (Basic tours)\")"
   ]
  }
 ],
 "metadata": {
  "kernelspec": {
   "display_name": "new",
   "language": "python",
   "name": "python3"
  },
  "language_info": {
   "codemirror_mode": {
    "name": "ipython",
    "version": 3
   },
   "file_extension": ".py",
   "mimetype": "text/x-python",
   "name": "python",
   "nbconvert_exporter": "python",
   "pygments_lexer": "ipython3",
   "version": "3.10.9"
  }
 },
 "nbformat": 4,
 "nbformat_minor": 2
}
