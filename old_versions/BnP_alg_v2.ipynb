{
 "cells": [
  {
   "cell_type": "code",
   "execution_count": 1,
   "metadata": {},
   "outputs": [],
   "source": [
    "import pandas as pd\n",
    "import numpy as np\n",
    "\n",
    "# Imports of custom moduls\n",
    "import Multitours as MT\n",
    "import BnP\n",
    "import instance\n",
    "from solution2 import importData2, importData3"
   ]
  },
  {
   "cell_type": "markdown",
   "metadata": {},
   "source": [
    "# Data"
   ]
  },
  {
   "cell_type": "code",
   "execution_count": 55,
   "metadata": {},
   "outputs": [],
   "source": [
    "# Read excel file for rows 1 to 9 for demanda data\n",
    "ncustomers = 8\n",
    "nvehicles = 4\n",
    "vehicleCapacity = [60000 for i in range(nvehicles)]\n",
    "Customers = pd.read_excel('D:/DIEGO/Gent/2nd Year/Thesis/Example1.xlsx', sheet_name='Sheet1', nrows=ncustomers, usecols=\"A:E\")\n",
    "Time = pd.read_excel('D:/DIEGO/Gent/2nd Year/Thesis/Example1.xlsx', sheet_name='Sheet1', skiprows=ncustomers+2, usecols=\"A:C\")\n",
    "Vehicles = pd.read_excel('D:/DIEGO/Gent/2nd Year/Thesis/Example1.xlsx', sheet_name='Sheet1', nrows=nvehicles, usecols=\"G:I\")\n",
    "delta = pd.read_excel('D:/DIEGO/Gent/2nd Year/Thesis/Example1.xlsx', sheet_name='Sheet1', nrows=1, usecols=\"K:K\")\n",
    "Network = Time[[\"Origin\", \"Destination\"]]\n",
    "Customers[\"Tmax\"] = Customers[\"Capacity\"] / Customers[\"Demand\"]"
   ]
  },
  {
   "cell_type": "markdown",
   "metadata": {},
   "source": [
    "### Parameters"
   ]
  },
  {
   "cell_type": "code",
   "execution_count": 3,
   "metadata": {},
   "outputs": [],
   "source": [
    "# Vehicle cost parameter\n",
    "psi = [1000 for i in range(nvehicles)]\n",
    "\n",
    "# Transportation cost\n",
    "delta = 100\n",
    "\n",
    "# Delivery cost\n",
    "# column Phi of df Costumers with indeces 1 to ncustomers\n",
    "phi = Customers[\"Phi\"].copy()\n",
    "phi.index = phi.index + 1\n",
    "\n",
    "# Holding Cost\n",
    "h = Customers[\"Holding\"].copy()\n",
    "h.index = h.index + 1\n",
    "\n",
    "# Demand\n",
    "d = Customers[\"Demand\"].copy()\n",
    "d.index = d.index + 1\n",
    "\n",
    "# Capacity\n",
    "k = Customers[\"Capacity\"].copy()\n",
    "k.index = k.index + 1\n",
    "\n",
    "# Travel time parameter\n",
    "shape = (ncustomers + 1, ncustomers + 1)\n",
    "t = np.full(shape, 100)\n",
    "\n",
    "for index, row in Time.iterrows():\n",
    "    i = row['Origin']\n",
    "    j = row['Destination']\n",
    "    t[i, j] = row['Time']\n",
    "\n",
    "# Create a dictionary with all the parameters\n",
    "parameters = {\n",
    "    \"ncustomers\": ncustomers,\n",
    "    \"nvehicles\": nvehicles,\n",
    "    \"vehicleCapacity\": vehicleCapacity,\n",
    "    \"psi\": psi,\n",
    "    \"delta\": delta,\n",
    "    \"phi\": phi,\n",
    "    \"h\": h,\n",
    "    \"d\": d,\n",
    "    \"k\": k,\n",
    "    \"t\": t\n",
    "}\n"
   ]
  },
  {
   "cell_type": "markdown",
   "metadata": {},
   "source": [
    "## Initial set of Multitours and Cycle time"
   ]
  },
  {
   "cell_type": "markdown",
   "metadata": {},
   "source": [
    "### Random and Basic tours"
   ]
  },
  {
   "cell_type": "code",
   "execution_count": 22,
   "metadata": {},
   "outputs": [],
   "source": [
    "MultiTours,Cost,T,X = instance.Initial_Tours(Random = True, Basic1 = True, n_radom_multitours=20, Network = Network, Time = Time, Customers = Customers, instance_parameters = parameters)"
   ]
  },
  {
   "cell_type": "markdown",
   "metadata": {},
   "source": [
    "### Big M (Artificial Variable)"
   ]
  },
  {
   "cell_type": "code",
   "execution_count": 24,
   "metadata": {},
   "outputs": [],
   "source": [
    "MultiTours,Cost,T,X = instance.Artificial_Variable(ncustomers, BigM=1000000)"
   ]
  },
  {
   "cell_type": "markdown",
   "metadata": {},
   "source": [
    "### Stored Solutions"
   ]
  },
  {
   "cell_type": "code",
   "execution_count": 6,
   "metadata": {},
   "outputs": [],
   "source": [
    "# Stored solution from example 2 (CG heuristic)\n",
    "# MultiTours,Cost,T,X = importData2(ncustomers)\n",
    "# MultiTours,Cost,T,X = importData3(ncustomers)"
   ]
  },
  {
   "cell_type": "markdown",
   "metadata": {},
   "source": [
    "# Branch and Price"
   ]
  },
  {
   "cell_type": "code",
   "execution_count": 7,
   "metadata": {},
   "outputs": [
    {
     "name": "stdout",
     "output_type": "stream",
     "text": [
      "   Depth       TC   Leaf            UB       LB       Gap\n",
      "0      0  87300.0  False  89806.666667  87300.0  2.871325\n",
      "1      1  87300.0   True  87300.000000  87300.0  0.000000\n",
      "2      1  88557.5   True  87300.000000  87300.0  0.000000\n",
      "\n",
      "Optimal solution found\n",
      "Min total cost: 87300.0\n",
      "Solution: [(8, 1.0), (20, 1.0), (21, 1.0), (26, 1.0)]\n",
      "[0, 8, 0] 2.0 11200.0\n",
      "[0, 5, 6, 0] 3.0 23700.0\n",
      "[0, 1, 2, 7, 0] 4.0 31250.0\n",
      "[0, 4, 3, 0] 4.0 21150.0\n"
     ]
    }
   ],
   "source": [
    "# Min_TC, solutionMP, tree = BnP.BnP(MultiTours,Cost,T,X, parameters, strategy=\"MultiTours\")\n",
    "Min_TC, solutionMP, tree = BnP.BnP(MultiTours,Cost,T,X, parameters, strategy=\"Trips\")"
   ]
  },
  {
   "cell_type": "code",
   "execution_count": 8,
   "metadata": {},
   "outputs": [],
   "source": [
    "# 16 minutes to run BnP with Multitours strategy (saved root node solution from example 3)"
   ]
  }
 ],
 "metadata": {
  "kernelspec": {
   "display_name": "new",
   "language": "python",
   "name": "python3"
  },
  "language_info": {
   "codemirror_mode": {
    "name": "ipython",
    "version": 3
   },
   "file_extension": ".py",
   "mimetype": "text/x-python",
   "name": "python",
   "nbconvert_exporter": "python",
   "pygments_lexer": "ipython3",
   "version": "3.10.9"
  }
 },
 "nbformat": 4,
 "nbformat_minor": 2
}
